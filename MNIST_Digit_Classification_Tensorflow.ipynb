{
  "nbformat": 4,
  "nbformat_minor": 0,
  "metadata": {
    "colab": {
      "name": "MNIST_Digit_Classification_Tensorflow.ipynb",
      "provenance": [],
      "collapsed_sections": [],
      "authorship_tag": "ABX9TyM/4dDDR8U2qoNRNkhf6eFB",
      "include_colab_link": true
    },
    "kernelspec": {
      "name": "python3",
      "display_name": "Python 3"
    },
    "accelerator": "TPU"
  },
  "cells": [
    {
      "cell_type": "markdown",
      "metadata": {
        "id": "view-in-github",
        "colab_type": "text"
      },
      "source": [
        "<a href=\"https://colab.research.google.com/github/betheman/Deep-Learning/blob/master/MNIST_Digit_Classification_Tensorflow.ipynb\" target=\"_parent\"><img src=\"https://colab.research.google.com/assets/colab-badge.svg\" alt=\"Open In Colab\"/></a>"
      ]
    },
    {
      "cell_type": "code",
      "metadata": {
        "id": "0t8SicXq57lt",
        "colab_type": "code",
        "colab": {}
      },
      "source": [
        "import numpy as np\n",
        "import matplotlib.pyplot as plt \n",
        "import pandas as pd\n",
        "import tensorflow.compat.v1 as tf\n",
        "tf.disable_v2_behavior() \n",
        "import seaborn as sns\n"
      ],
      "execution_count": 0,
      "outputs": []
    },
    {
      "cell_type": "code",
      "metadata": {
        "id": "VyB1JLJ16YOW",
        "colab_type": "code",
        "colab": {}
      },
      "source": [
        "(X_train, y_train), (X_test, y_test) = tf.keras.datasets.mnist.load_data()"
      ],
      "execution_count": 0,
      "outputs": []
    },
    {
      "cell_type": "code",
      "metadata": {
        "id": "yloIudNc7tbD",
        "colab_type": "code",
        "colab": {
          "base_uri": "https://localhost:8080/",
          "height": 298
        },
        "outputId": "6ef19512-72eb-47bb-9602-023bc3323133"
      },
      "source": [
        "plt.title(y_train[0])\n",
        "plt.imshow(X_train[0])"
      ],
      "execution_count": 24,
      "outputs": [
        {
          "output_type": "execute_result",
          "data": {
            "text/plain": [
              "<matplotlib.image.AxesImage at 0x7fce23157128>"
            ]
          },
          "metadata": {
            "tags": []
          },
          "execution_count": 24
        },
        {
          "output_type": "display_data",
          "data": {
            "image/png": "[encoded data removed]",
            "text/plain": [
              "<Figure size 432x288 with 1 Axes>"
            ]
          },
          "metadata": {
            "tags": [],
            "needs_background": "light"
          }
        }
      ]
    },
    {
      "cell_type": "code",
      "metadata": {
        "id": "BLmjTfiy70hG",
        "colab_type": "code",
        "colab": {}
      },
      "source": [
        "X_train=X_train.reshape(len(X_train),28*28)\n",
        "X_test=X_test.reshape(len(X_test),28*28)"
      ],
      "execution_count": 0,
      "outputs": []
    },
    {
      "cell_type": "code",
      "metadata": {
        "id": "HaHYfYEr9CnY",
        "colab_type": "code",
        "colab": {}
      },
      "source": [
        "y_train=y_train.reshape(-1,1)\n",
        "y_test=y_test.reshape(-1,1)"
      ],
      "execution_count": 0,
      "outputs": []
    },
    {
      "cell_type": "code",
      "metadata": {
        "id": "7ZcEFTl89Z-7",
        "colab_type": "code",
        "colab": {}
      },
      "source": [
        "from sklearn.preprocessing import OneHotEncoder"
      ],
      "execution_count": 0,
      "outputs": []
    },
    {
      "cell_type": "code",
      "metadata": {
        "id": "GyLzlH7W9hO3",
        "colab_type": "code",
        "colab": {}
      },
      "source": [
        "oneHot=OneHotEncoder(sparse=False).fit(y_train)"
      ],
      "execution_count": 0,
      "outputs": []
    },
    {
      "cell_type": "code",
      "metadata": {
        "id": "BL3rqtkF9qWE",
        "colab_type": "code",
        "colab": {}
      },
      "source": [
        "y_train=oneHot.transform(y_train)"
      ],
      "execution_count": 0,
      "outputs": []
    },
    {
      "cell_type": "code",
      "metadata": {
        "id": "8tbLx76U9vPP",
        "colab_type": "code",
        "colab": {}
      },
      "source": [
        "oneHot=OneHotEncoder(sparse=False).fit(y_test)"
      ],
      "execution_count": 0,
      "outputs": []
    },
    {
      "cell_type": "code",
      "metadata": {
        "id": "qHp3pLGD9zeY",
        "colab_type": "code",
        "colab": {}
      },
      "source": [
        "y_test=oneHot.transform(y_test)"
      ],
      "execution_count": 0,
      "outputs": []
    },
    {
      "cell_type": "code",
      "metadata": {
        "id": "HQFIeoU3CiPo",
        "colab_type": "code",
        "colab": {}
      },
      "source": [
        "learning_rate=.01\n",
        "epochs=500\n",
        "batch_size=int(len(X_train)*.40)"
      ],
      "execution_count": 0,
      "outputs": []
    },
    {
      "cell_type": "code",
      "metadata": {
        "id": "bEuRSJK1944Y",
        "colab_type": "code",
        "colab": {}
      },
      "source": [
        "W=tf.Variable(tf.random_normal(shape=[28*28,10]),dtype=tf.float32)\n",
        "b=tf.Variable(tf.random_normal(shape=[1,10]),dtype=tf.float32)"
      ],
      "execution_count": 0,
      "outputs": []
    },
    {
      "cell_type": "code",
      "metadata": {
        "id": "_9fxFR4g_Q2c",
        "colab_type": "code",
        "colab": {}
      },
      "source": [
        "data=tf.placeholder(shape=[None,28*28],dtype=tf.float32)\n",
        "labels=tf.placeholder(shape=[None,10],dtype=tf.float32)"
      ],
      "execution_count": 0,
      "outputs": []
    },
    {
      "cell_type": "code",
      "metadata": {
        "id": "4WDJTh8y_d8x",
        "colab_type": "code",
        "colab": {}
      },
      "source": [
        "matrix_mul=tf.matmul(data,W)+b"
      ],
      "execution_count": 0,
      "outputs": []
    },
    {
      "cell_type": "code",
      "metadata": {
        "id": "ADamPDjDAG5B",
        "colab_type": "code",
        "colab": {}
      },
      "source": [
        "loss=tf.reduce_mean(tf.nn.softmax_cross_entropy_with_logits(logits=matrix_mul,labels=labels))"
      ],
      "execution_count": 0,
      "outputs": []
    },
    {
      "cell_type": "code",
      "metadata": {
        "id": "KtMnSOrVCZ6h",
        "colab_type": "code",
        "colab": {}
      },
      "source": [
        "optimizer=tf.train.GradientDescentOptimizer(learning_rate=learning_rate)"
      ],
      "execution_count": 0,
      "outputs": []
    },
    {
      "cell_type": "code",
      "metadata": {
        "id": "QKSbHvO6DTbu",
        "colab_type": "code",
        "colab": {}
      },
      "source": [
        "goal=optimizer.minimize(loss=loss)"
      ],
      "execution_count": 0,
      "outputs": []
    },
    {
      "cell_type": "code",
      "metadata": {
        "id": "f_TPqO6pDhRC",
        "colab_type": "code",
        "colab": {}
      },
      "source": [
        "prediction = tf.nn.softmax(matrix_mul)\n",
        "# Bool into float32 type\n",
        "correct = tf.cast(tf.equal(tf.arg_max(prediction,1), tf.arg_max(labels,1)), dtype=tf.float32)\n",
        "# Average\n",
        "accuracy = tf.reduce_mean(correct)"
      ],
      "execution_count": 0,
      "outputs": []
    },
    {
      "cell_type": "code",
      "metadata": {
        "id": "jsy1zrvZDnUi",
        "colab_type": "code",
        "colab": {}
      },
      "source": [
        "loss_trace = []\n",
        "train_acc = []\n",
        "test_acc = []"
      ],
      "execution_count": 0,
      "outputs": []
    },
    {
      "cell_type": "code",
      "metadata": {
        "id": "7Cz7pQODD0fL",
        "colab_type": "code",
        "colab": {}
      },
      "source": [
        "init = tf.global_variables_initializer()\n",
        "sess = tf.Session()\n",
        "sess.run(init)"
      ],
      "execution_count": 0,
      "outputs": []
    },
    {
      "cell_type": "code",
      "metadata": {
        "id": "yz4pzqyAD4Ye",
        "colab_type": "code",
        "colab": {
          "base_uri": "https://localhost:8080/",
          "height": 357
        },
        "outputId": "8fb546b2-190b-41e8-8ce2-6b9d86533c94"
      },
      "source": [
        "for epoch in range(epochs):\n",
        "    sess.run(goal, feed_dict={data: X_train, labels: y_train})\n",
        "    temp_loss = sess.run(loss, feed_dict={data: X_train, labels: y_train})\n",
        "    # convert into a matrix, and the shape of the placeholder to correspond\n",
        "    temp_train_acc = sess.run(accuracy, feed_dict={data: X_train, labels: y_train})\n",
        "    temp_test_acc = sess.run(accuracy, feed_dict={data: X_test, labels: y_test})\n",
        "    # recode the result\n",
        "    loss_trace.append(temp_loss)\n",
        "    train_acc.append(temp_train_acc)\n",
        "    test_acc.append(temp_test_acc)\n",
        "    # output\n",
        "    if (epoch + 1) % 25 == 0:\n",
        "        print('epoch: {:4d} loss: {:5f} train_acc: {:5f} test_acc: {:5f}'.format(epoch + 1, temp_loss,\n",
        "                                                                          temp_train_acc, temp_test_acc))\n"
      ],
      "execution_count": 42,
      "outputs": [
        {
          "output_type": "stream",
          "text": [
            "epoch:   25 loss: 291.988159 train_acc: 0.770433 test_acc: 0.779200\n",
            "epoch:   50 loss: 204.199799 train_acc: 0.815317 test_acc: 0.821500\n",
            "epoch:   75 loss: 200.732407 train_acc: 0.818133 test_acc: 0.819400\n",
            "epoch:  100 loss: 156.691818 train_acc: 0.841650 test_acc: 0.844900\n",
            "epoch:  125 loss: 149.254898 train_acc: 0.849083 test_acc: 0.848200\n",
            "epoch:  150 loss: 149.028183 train_acc: 0.840167 test_acc: 0.842500\n",
            "epoch:  175 loss: 123.374016 train_acc: 0.864133 test_acc: 0.862400\n",
            "epoch:  200 loss: 159.887070 train_acc: 0.833350 test_acc: 0.834000\n",
            "epoch:  225 loss: 108.873817 train_acc: 0.875383 test_acc: 0.874300\n",
            "epoch:  250 loss: 155.326660 train_acc: 0.827833 test_acc: 0.829200\n",
            "epoch:  275 loss: 100.958359 train_acc: 0.878600 test_acc: 0.876400\n",
            "epoch:  300 loss: 122.628288 train_acc: 0.860650 test_acc: 0.858000\n",
            "epoch:  325 loss: 100.188103 train_acc: 0.876817 test_acc: 0.875600\n",
            "epoch:  350 loss: 92.652451 train_acc: 0.886600 test_acc: 0.883500\n",
            "epoch:  375 loss: 211.406754 train_acc: 0.788967 test_acc: 0.786800\n",
            "epoch:  400 loss: 87.864372 train_acc: 0.890017 test_acc: 0.886500\n",
            "epoch:  425 loss: 135.512115 train_acc: 0.843000 test_acc: 0.841000\n",
            "epoch:  450 loss: 84.480728 train_acc: 0.888717 test_acc: 0.888100\n",
            "epoch:  475 loss: 88.197769 train_acc: 0.891667 test_acc: 0.889700\n",
            "epoch:  500 loss: 86.774368 train_acc: 0.881983 test_acc: 0.884000\n"
          ],
          "name": "stdout"
        }
      ]
    },
    {
      "cell_type": "code",
      "metadata": {
        "id": "Bv14f68VD9hk",
        "colab_type": "code",
        "colab": {
          "base_uri": "https://localhost:8080/",
          "height": 295
        },
        "outputId": "dbec5bc8-9d7f-4910-af5e-0b63c8b4fee0"
      },
      "source": [
        "plt.plot(loss_trace)\n",
        "plt.title('Cross Entropy Loss')\n",
        "plt.xlabel('epoch')\n",
        "plt.ylabel('loss')\n",
        "plt.show()"
      ],
      "execution_count": 43,
      "outputs": [
        {
          "output_type": "display_data",
          "data": {
            "image/png": "[encoded data removed]",
            "text/plain": [
              "<Figure size 432x288 with 1 Axes>"
            ]
          },
          "metadata": {
            "tags": [],
            "needs_background": "light"
          }
        }
      ]
    },
    {
      "cell_type": "code",
      "metadata": {
        "id": "KZo_TqFEEIKf",
        "colab_type": "code",
        "colab": {
          "base_uri": "https://localhost:8080/",
          "height": 295
        },
        "outputId": "53c0ea03-c26a-485d-df99-1cea682a0166"
      },
      "source": [
        "plt.plot(train_acc, 'b-', label='train accuracy')\n",
        "plt.plot(test_acc, 'k-', label='test accuracy')\n",
        "plt.xlabel('epoch')\n",
        "plt.ylabel('accuracy')\n",
        "plt.title('Train and Test Accuracy')\n",
        "plt.legend(loc='best')\n",
        "plt.show()"
      ],
      "execution_count": 44,
      "outputs": [
        {
          "output_type": "display_data",
          "data": {
            "image/png": "[encoded data removed]",
            "text/plain": [
              "<Figure size 432x288 with 1 Axes>"
            ]
          },
          "metadata": {
            "tags": [],
            "needs_background": "light"
          }
        }
      ]
    },
    {
      "cell_type": "code",
      "metadata": {
        "id": "9d27HDphHLWF",
        "colab_type": "code",
        "colab": {}
      },
      "source": [
        "mod = tf.matmul(data, W) + b\n",
        "x=sess.run(mod,feed_dict={data:X_test})\n",
        "predic=tf.nn.softmax(x)"
      ],
      "execution_count": 0,
      "outputs": []
    },
    {
      "cell_type": "code",
      "metadata": {
        "id": "G-uWJi18HQNC",
        "colab_type": "code",
        "colab": {}
      },
      "source": [
        "predictions=sess.run(tf.arg_max(predic,1))"
      ],
      "execution_count": 0,
      "outputs": []
    },
    {
      "cell_type": "code",
      "metadata": {
        "id": "dXzG4H62HU8q",
        "colab_type": "code",
        "colab": {}
      },
      "source": [
        "y_true=sess.run(tf.arg_max(y_test,1))"
      ],
      "execution_count": 0,
      "outputs": []
    },
    {
      "cell_type": "code",
      "metadata": {
        "id": "uMjdJmxZHWuN",
        "colab_type": "code",
        "colab": {}
      },
      "source": [
        "from sklearn.metrics import confusion_matrix,classification_report"
      ],
      "execution_count": 0,
      "outputs": []
    },
    {
      "cell_type": "code",
      "metadata": {
        "id": "A7Y3NjC7HYdH",
        "colab_type": "code",
        "colab": {
          "base_uri": "https://localhost:8080/",
          "height": 187
        },
        "outputId": "821e5e03-0f09-4537-c8eb-fc83747d3e91"
      },
      "source": [
        "confusion_matrix(y_true,predictions)"
      ],
      "execution_count": 49,
      "outputs": [
        {
          "output_type": "execute_result",
          "data": {
            "text/plain": [
              "array([[ 928,    0,    4,    1,    0,   13,   15,    2,   15,    2],\n",
              "       [   0, 1062,    5,    2,    1,    3,    6,    2,   53,    1],\n",
              "       [   7,    7,  874,   34,    7,    3,   10,   11,   70,    9],\n",
              "       [   4,    0,   22,  887,    2,   24,    2,   12,   50,    7],\n",
              "       [   1,    2,    5,    2,  885,    2,   15,    8,   26,   36],\n",
              "       [  17,    3,    6,   45,   10,  653,   21,    7,  123,    7],\n",
              "       [  18,    3,    8,    2,   19,   11,  882,    1,   14,    0],\n",
              "       [   1,    3,   17,   12,    6,    0,    1,  936,   14,   38],\n",
              "       [   5,    4,    4,   18,   14,   13,    9,   13,  893,    1],\n",
              "       [   7,    4,    2,   13,   55,    3,    1,   39,   45,  840]])"
            ]
          },
          "metadata": {
            "tags": []
          },
          "execution_count": 49
        }
      ]
    },
    {
      "cell_type": "code",
      "metadata": {
        "id": "JilMkXCrHaGV",
        "colab_type": "code",
        "colab": {
          "base_uri": "https://localhost:8080/",
          "height": 306
        },
        "outputId": "7fbce166-8e1c-4c6f-ab17-422ab20f2b4b"
      },
      "source": [
        "print(classification_report(y_true,predictions))"
      ],
      "execution_count": 50,
      "outputs": [
        {
          "output_type": "stream",
          "text": [
            "              precision    recall  f1-score   support\n",
            "\n",
            "           0       0.94      0.95      0.94       980\n",
            "           1       0.98      0.94      0.96      1135\n",
            "           2       0.92      0.85      0.88      1032\n",
            "           3       0.87      0.88      0.88      1010\n",
            "           4       0.89      0.90      0.89       982\n",
            "           5       0.90      0.73      0.81       892\n",
            "           6       0.92      0.92      0.92       958\n",
            "           7       0.91      0.91      0.91      1028\n",
            "           8       0.69      0.92      0.78       974\n",
            "           9       0.89      0.83      0.86      1009\n",
            "\n",
            "    accuracy                           0.88     10000\n",
            "   macro avg       0.89      0.88      0.88     10000\n",
            "weighted avg       0.89      0.88      0.89     10000\n",
            "\n"
          ],
          "name": "stdout"
        }
      ]
    },
    {
      "cell_type": "code",
      "metadata": {
        "id": "9HuOtrW3HeOW",
        "colab_type": "code",
        "colab": {}
      },
      "source": [
        ""
      ],
      "execution_count": 0,
      "outputs": []
    }
  ]
}