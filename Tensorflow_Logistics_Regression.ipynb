{
  "nbformat": 4,
  "nbformat_minor": 0,
  "metadata": {
    "colab": {
      "name": "Tensorflow-Logistics-Regression.ipynb",
      "provenance": [],
      "collapsed_sections": [],
      "mount_file_id": "1TpG-uE3pqNu3epZ0_5aRnh2RO2inYAeJ",
      "authorship_tag": "ABX9TyORwpnAPz92Sv0PjGLSSBPc",
      "include_colab_link": true
    },
    "kernelspec": {
      "name": "python3",
      "display_name": "Python 3"
    }
  },
  "cells": [
    {
      "cell_type": "markdown",
      "metadata": {
        "id": "view-in-github",
        "colab_type": "text"
      },
      "source": [
        "<a href=\"https://colab.research.google.com/github/betheman/Deep-Learning/blob/master/Tensorflow_Logistics_Regression.ipynb\" target=\"_parent\"><img src=\"https://colab.research.google.com/assets/colab-badge.svg\" alt=\"Open In Colab\"/></a>"
      ]
    },
    {
      "cell_type": "code",
      "metadata": {
        "id": "0H3FsOIAMTfm",
        "colab_type": "code",
        "colab": {
          "base_uri": "https://localhost:8080/",
          "height": 122
        },
        "outputId": "6c19177d-ab4e-4e67-a0ff-44154953b9c4"
      },
      "source": [
        "import numpy as np\n",
        "import matplotlib.pyplot as plt \n",
        "import pandas as pd\n",
        "import tensorflow.compat.v1 as tf\n",
        "tf.disable_v2_behavior() \n",
        "import seaborn as sns\n"
      ],
      "execution_count": 1,
      "outputs": [
        {
          "output_type": "stream",
          "text": [
            "WARNING:tensorflow:From /usr/local/lib/python3.6/dist-packages/tensorflow/python/compat/v2_compat.py:96: disable_resource_variables (from tensorflow.python.ops.variable_scope) is deprecated and will be removed in a future version.\n",
            "Instructions for updating:\n",
            "non-resource variables are not supported in the long term\n"
          ],
          "name": "stdout"
        },
        {
          "output_type": "stream",
          "text": [
            "/usr/local/lib/python3.6/dist-packages/statsmodels/tools/_testing.py:19: FutureWarning: pandas.util.testing is deprecated. Use the functions in the public API at pandas.testing instead.\n",
            "  import pandas.util.testing as tm\n"
          ],
          "name": "stderr"
        }
      ]
    },
    {
      "cell_type": "code",
      "metadata": {
        "id": "wWj8lwVUMeuc",
        "colab_type": "code",
        "colab": {}
      },
      "source": [
        "df=pd.read_csv('/content/drive/My Drive/Colab Notebooks/Data/LogisticRegression/iris.csv')"
      ],
      "execution_count": 0,
      "outputs": []
    },
    {
      "cell_type": "code",
      "metadata": {
        "id": "lwV29HRTNXQr",
        "colab_type": "code",
        "outputId": "04c0138e-fa49-4365-cda2-2218665a51f3",
        "colab": {
          "base_uri": "https://localhost:8080/",
          "height": 204
        }
      },
      "source": [
        "df.head()"
      ],
      "execution_count": 3,
      "outputs": [
        {
          "output_type": "execute_result",
          "data": {
            "text/html": [
              "<div>\n",
              "<style scoped>\n",
              "    .dataframe tbody tr th:only-of-type {\n",
              "        vertical-align: middle;\n",
              "    }\n",
              "\n",
              "    .dataframe tbody tr th {\n",
              "        vertical-align: top;\n",
              "    }\n",
              "\n",
              "    .dataframe thead th {\n",
              "        text-align: right;\n",
              "    }\n",
              "</style>\n",
              "<table border=\"1\" class=\"dataframe\">\n",
              "  <thead>\n",
              "    <tr style=\"text-align: right;\">\n",
              "      <th></th>\n",
              "      <th>sepal_length</th>\n",
              "      <th>sepal_width</th>\n",
              "      <th>petal_length</th>\n",
              "      <th>petal_width</th>\n",
              "      <th>species</th>\n",
              "    </tr>\n",
              "  </thead>\n",
              "  <tbody>\n",
              "    <tr>\n",
              "      <th>0</th>\n",
              "      <td>5.1</td>\n",
              "      <td>3.5</td>\n",
              "      <td>1.4</td>\n",
              "      <td>0.2</td>\n",
              "      <td>setosa</td>\n",
              "    </tr>\n",
              "    <tr>\n",
              "      <th>1</th>\n",
              "      <td>4.9</td>\n",
              "      <td>3.0</td>\n",
              "      <td>1.4</td>\n",
              "      <td>0.2</td>\n",
              "      <td>setosa</td>\n",
              "    </tr>\n",
              "    <tr>\n",
              "      <th>2</th>\n",
              "      <td>4.7</td>\n",
              "      <td>3.2</td>\n",
              "      <td>1.3</td>\n",
              "      <td>0.2</td>\n",
              "      <td>setosa</td>\n",
              "    </tr>\n",
              "    <tr>\n",
              "      <th>3</th>\n",
              "      <td>4.6</td>\n",
              "      <td>3.1</td>\n",
              "      <td>1.5</td>\n",
              "      <td>0.2</td>\n",
              "      <td>setosa</td>\n",
              "    </tr>\n",
              "    <tr>\n",
              "      <th>4</th>\n",
              "      <td>5.0</td>\n",
              "      <td>3.6</td>\n",
              "      <td>1.4</td>\n",
              "      <td>0.2</td>\n",
              "      <td>setosa</td>\n",
              "    </tr>\n",
              "  </tbody>\n",
              "</table>\n",
              "</div>"
            ],
            "text/plain": [
              "   sepal_length  sepal_width  petal_length  petal_width species\n",
              "0           5.1          3.5           1.4          0.2  setosa\n",
              "1           4.9          3.0           1.4          0.2  setosa\n",
              "2           4.7          3.2           1.3          0.2  setosa\n",
              "3           4.6          3.1           1.5          0.2  setosa\n",
              "4           5.0          3.6           1.4          0.2  setosa"
            ]
          },
          "metadata": {
            "tags": []
          },
          "execution_count": 3
        }
      ]
    },
    {
      "cell_type": "code",
      "metadata": {
        "id": "SyEBrf241kIM",
        "colab_type": "code",
        "colab": {
          "base_uri": "https://localhost:8080/",
          "height": 300
        },
        "outputId": "c4aba46e-8f9d-494a-f6d1-3765a0e9d4c7"
      },
      "source": [
        "sns.scatterplot(x='sepal_length',y='sepal_width',data=df,hue='species')"
      ],
      "execution_count": 34,
      "outputs": [
        {
          "output_type": "execute_result",
          "data": {
            "text/plain": [
              "<matplotlib.axes._subplots.AxesSubplot at 0x7f549d0dab00>"
            ]
          },
          "metadata": {
            "tags": []
          },
          "execution_count": 34
        },
        {
          "output_type": "display_data",
          "data": {
            "image/png": "[encoded data removed]",
            "text/plain": [
              "<Figure size 432x288 with 1 Axes>"
            ]
          },
          "metadata": {
            "tags": [],
            "needs_background": "light"
          }
        }
      ]
    },
    {
      "cell_type": "code",
      "metadata": {
        "id": "q8S-5vkK1jVu",
        "colab_type": "code",
        "colab": {
          "base_uri": "https://localhost:8080/",
          "height": 297
        },
        "outputId": "88e158ca-361a-4971-c7dc-937ce0911bb2"
      },
      "source": [
        "sns.scatterplot(x='petal_length',y='petal_width',data=df,hue='species')"
      ],
      "execution_count": 35,
      "outputs": [
        {
          "output_type": "execute_result",
          "data": {
            "text/plain": [
              "<matplotlib.axes._subplots.AxesSubplot at 0x7f549d0da048>"
            ]
          },
          "metadata": {
            "tags": []
          },
          "execution_count": 35
        },
        {
          "output_type": "display_data",
          "data": {
            "image/png": "[encoded data removed]",
            "text/plain": [
              "<Figure size 432x288 with 1 Axes>"
            ]
          },
          "metadata": {
            "tags": [],
            "needs_background": "light"
          }
        }
      ]
    },
    {
      "cell_type": "code",
      "metadata": {
        "id": "5V7XIZY5cMv6",
        "colab_type": "code",
        "outputId": "40c27cfd-01cb-4bac-cdce-72eec5092085",
        "colab": {
          "base_uri": "https://localhost:8080/",
          "height": 34
        }
      },
      "source": [
        "df['species'].unique()"
      ],
      "execution_count": 4,
      "outputs": [
        {
          "output_type": "execute_result",
          "data": {
            "text/plain": [
              "array(['setosa', 'versicolor', 'virginica'], dtype=object)"
            ]
          },
          "metadata": {
            "tags": []
          },
          "execution_count": 4
        }
      ]
    },
    {
      "cell_type": "code",
      "metadata": {
        "id": "1YE8JRbxeDE8",
        "colab_type": "code",
        "colab": {}
      },
      "source": [
        "X=df.iloc[:,0:-1]\n",
        "y=df.iloc[:,4:]"
      ],
      "execution_count": 0,
      "outputs": []
    },
    {
      "cell_type": "code",
      "metadata": {
        "id": "ccgK9_yG74BG",
        "colab_type": "code",
        "colab": {}
      },
      "source": [
        "from sklearn.utils import shuffle"
      ],
      "execution_count": 0,
      "outputs": []
    },
    {
      "cell_type": "code",
      "metadata": {
        "id": "XPI3pRkT7-K8",
        "colab_type": "code",
        "colab": {}
      },
      "source": [
        "X,y=shuffle(X,y)"
      ],
      "execution_count": 0,
      "outputs": []
    },
    {
      "cell_type": "code",
      "metadata": {
        "id": "4zqosKmQ11bB",
        "colab_type": "code",
        "colab": {}
      },
      "source": [
        "def min_max_normalization(X):\n",
        "    col_max=X.max()\n",
        "    col_min=X.min()\n",
        "    return (X-col_min)/(col_max-col_min)\n",
        "\n",
        "\n"
      ],
      "execution_count": 0,
      "outputs": []
    },
    {
      "cell_type": "code",
      "metadata": {
        "id": "84umY9bK2Ffa",
        "colab_type": "code",
        "colab": {}
      },
      "source": [
        "X=min_max_normalization(X)"
      ],
      "execution_count": 0,
      "outputs": []
    },
    {
      "cell_type": "code",
      "metadata": {
        "id": "VtxRSzwgPjqM",
        "colab_type": "code",
        "colab": {}
      },
      "source": [
        "#y.species = y.species.replace(to_replace=['setosa', 'versicolor','virginica'], value=[0,1,2])"
      ],
      "execution_count": 0,
      "outputs": []
    },
    {
      "cell_type": "code",
      "metadata": {
        "id": "ohOdxLU1upI6",
        "colab_type": "code",
        "colab": {}
      },
      "source": [
        "from sklearn.preprocessing import OneHotEncoder\n",
        "\n",
        "oneHot=OneHotEncoder(sparse=False).fit(y)\n",
        "y=oneHot.transform(y)\n"
      ],
      "execution_count": 0,
      "outputs": []
    },
    {
      "cell_type": "code",
      "metadata": {
        "id": "2RvYo0nL5O_x",
        "colab_type": "code",
        "colab": {}
      },
      "source": [
        "from sklearn.model_selection import train_test_split"
      ],
      "execution_count": 0,
      "outputs": []
    },
    {
      "cell_type": "code",
      "metadata": {
        "id": "PGzo_Ja55chg",
        "colab_type": "code",
        "colab": {}
      },
      "source": [
        "X_train, X_test, y_train, y_test = train_test_split(X, y, test_size=0.33, random_state=42)"
      ],
      "execution_count": 0,
      "outputs": []
    },
    {
      "cell_type": "code",
      "metadata": {
        "id": "EOS17HOdPPlY",
        "colab_type": "code",
        "colab": {}
      },
      "source": [
        "A = tf.Variable(tf.random_normal(shape=[4, 3]),dtype=tf.float32)\n",
        "b = tf.Variable(tf.random_normal(shape=[1,3]),dtype=tf.float32)\n",
        "init = tf.global_variables_initializer()\n",
        "sess = tf.Session()\n",
        "sess.run(init)"
      ],
      "execution_count": 0,
      "outputs": []
    },
    {
      "cell_type": "code",
      "metadata": {
        "id": "15hv_4QL61qT",
        "colab_type": "code",
        "colab": {}
      },
      "source": [
        "data = tf.placeholder(dtype=tf.float32, shape=[None, 4])\n",
        "target = tf.placeholder(dtype=tf.float32, shape=[None, 3])"
      ],
      "execution_count": 0,
      "outputs": []
    },
    {
      "cell_type": "code",
      "metadata": {
        "id": "nkuubM4ZO6i-",
        "colab_type": "code",
        "colab": {}
      },
      "source": [
        "mod = tf.matmul(data, A) + b"
      ],
      "execution_count": 0,
      "outputs": []
    },
    {
      "cell_type": "code",
      "metadata": {
        "id": "nYXljCLNPSjN",
        "colab_type": "code",
        "colab": {
          "base_uri": "https://localhost:8080/",
          "height": 173
        },
        "outputId": "4ce48bb3-6516-4f67-bf4a-2e3fbe64a13a"
      },
      "source": [
        "loss = tf.reduce_mean(tf.nn.softmax_cross_entropy_with_logits(logits=mod, labels=target))"
      ],
      "execution_count": 17,
      "outputs": [
        {
          "output_type": "stream",
          "text": [
            "WARNING:tensorflow:From <ipython-input-17-5932b74dab7a>:1: softmax_cross_entropy_with_logits (from tensorflow.python.ops.nn_ops) is deprecated and will be removed in a future version.\n",
            "Instructions for updating:\n",
            "\n",
            "Future major versions of TensorFlow will allow gradients to flow\n",
            "into the labels input on backprop by default.\n",
            "\n",
            "See `tf.nn.softmax_cross_entropy_with_logits_v2`.\n",
            "\n"
          ],
          "name": "stdout"
        }
      ]
    },
    {
      "cell_type": "code",
      "metadata": {
        "id": "G0ioVqGCQJH0",
        "colab_type": "code",
        "colab": {}
      },
      "source": [
        "learning_rate = 0.01\n",
        "iter_num = 8000"
      ],
      "execution_count": 0,
      "outputs": []
    },
    {
      "cell_type": "code",
      "metadata": {
        "id": "JwR68OQ1QN_R",
        "colab_type": "code",
        "colab": {}
      },
      "source": [
        "opt = tf.train.GradientDescentOptimizer(learning_rate)"
      ],
      "execution_count": 0,
      "outputs": []
    },
    {
      "cell_type": "code",
      "metadata": {
        "id": "co8r5HswQRD7",
        "colab_type": "code",
        "colab": {}
      },
      "source": [
        "goal = opt.minimize(loss)"
      ],
      "execution_count": 0,
      "outputs": []
    },
    {
      "cell_type": "code",
      "metadata": {
        "id": "fLuPeP9tQTLs",
        "colab_type": "code",
        "colab": {}
      },
      "source": [
        "prediction = tf.nn.softmax(mod)\n",
        "# Bool into float32 type\n",
        "correct = tf.cast(tf.equal(tf.arg_max(prediction,1), tf.arg_max(target,1)), dtype=tf.float32)\n",
        "# Average\n",
        "accuracy = tf.reduce_mean(correct)"
      ],
      "execution_count": 0,
      "outputs": []
    },
    {
      "cell_type": "code",
      "metadata": {
        "id": "s5BloL8YQXEb",
        "colab_type": "code",
        "colab": {}
      },
      "source": [
        "loss_trace = []\n",
        "train_acc = []\n",
        "test_acc = []"
      ],
      "execution_count": 0,
      "outputs": []
    },
    {
      "cell_type": "code",
      "metadata": {
        "id": "sblOcQ1nQhrp",
        "colab_type": "code",
        "outputId": "25a5fae3-15af-4d92-bceb-e71fe17059e6",
        "colab": {
          "base_uri": "https://localhost:8080/",
          "height": 459
        }
      },
      "source": [
        "for epoch in range(iter_num):\n",
        "    \n",
        "    sess.run(goal, feed_dict={data: X_train, target: y_train})\n",
        "    temp_loss = sess.run(loss, feed_dict={data: X_train, target: y_train})\n",
        "    # convert into a matrix, and the shape of the placeholder to correspond\n",
        "    temp_train_acc = sess.run(accuracy, feed_dict={data: X_train, target: y_train})\n",
        "    temp_test_acc = sess.run(accuracy, feed_dict={data: X_test, target: y_test})\n",
        "    # recode the result\n",
        "    loss_trace.append(temp_loss)\n",
        "    train_acc.append(temp_train_acc)\n",
        "    test_acc.append(temp_test_acc)\n",
        "    # output\n",
        "    if (epoch + 1) % 300 == 0:\n",
        "        print('epoch: {:4d} loss: {:5f} train_acc: {:5f} test_acc: {:5f}'.format(epoch + 1, temp_loss,\n",
        "                                                                          temp_train_acc, temp_test_acc))\n"
      ],
      "execution_count": 23,
      "outputs": [
        {
          "output_type": "stream",
          "text": [
            "epoch:  300 loss: 1.012013 train_acc: 0.410000 test_acc: 0.340000\n",
            "epoch:  600 loss: 0.874325 train_acc: 0.510000 test_acc: 0.380000\n",
            "epoch:  900 loss: 0.775718 train_acc: 0.670000 test_acc: 0.660000\n",
            "epoch: 1200 loss: 0.702511 train_acc: 0.830000 test_acc: 0.780000\n",
            "epoch: 1500 loss: 0.647051 train_acc: 0.840000 test_acc: 0.780000\n",
            "epoch: 1800 loss: 0.603954 train_acc: 0.840000 test_acc: 0.780000\n",
            "epoch: 2100 loss: 0.569581 train_acc: 0.850000 test_acc: 0.840000\n",
            "epoch: 2400 loss: 0.541491 train_acc: 0.850000 test_acc: 0.860000\n",
            "epoch: 2700 loss: 0.518038 train_acc: 0.860000 test_acc: 0.880000\n",
            "epoch: 3000 loss: 0.498085 train_acc: 0.860000 test_acc: 0.880000\n",
            "epoch: 3300 loss: 0.480835 train_acc: 0.880000 test_acc: 0.880000\n",
            "epoch: 3600 loss: 0.465714 train_acc: 0.890000 test_acc: 0.860000\n",
            "epoch: 3900 loss: 0.452302 train_acc: 0.900000 test_acc: 0.860000\n",
            "epoch: 4200 loss: 0.440285 train_acc: 0.910000 test_acc: 0.860000\n",
            "epoch: 4500 loss: 0.429421 train_acc: 0.910000 test_acc: 0.860000\n",
            "epoch: 4800 loss: 0.419525 train_acc: 0.910000 test_acc: 0.860000\n",
            "epoch: 5100 loss: 0.410450 train_acc: 0.920000 test_acc: 0.860000\n",
            "epoch: 5400 loss: 0.402080 train_acc: 0.920000 test_acc: 0.860000\n",
            "epoch: 5700 loss: 0.394319 train_acc: 0.920000 test_acc: 0.860000\n",
            "epoch: 6000 loss: 0.387091 train_acc: 0.920000 test_acc: 0.880000\n",
            "epoch: 6300 loss: 0.380332 train_acc: 0.920000 test_acc: 0.880000\n",
            "epoch: 6600 loss: 0.373987 train_acc: 0.920000 test_acc: 0.900000\n",
            "epoch: 6900 loss: 0.368013 train_acc: 0.920000 test_acc: 0.900000\n",
            "epoch: 7200 loss: 0.362370 train_acc: 0.920000 test_acc: 0.900000\n",
            "epoch: 7500 loss: 0.357026 train_acc: 0.920000 test_acc: 0.920000\n",
            "epoch: 7800 loss: 0.351953 train_acc: 0.920000 test_acc: 0.920000\n"
          ],
          "name": "stdout"
        }
      ]
    },
    {
      "cell_type": "code",
      "metadata": {
        "id": "h5xd-OLGQqSU",
        "colab_type": "code",
        "outputId": "8eaf0429-6b92-4d81-fda6-a401e8245da8",
        "colab": {
          "base_uri": "https://localhost:8080/",
          "height": 295
        }
      },
      "source": [
        "plt.plot(loss_trace)\n",
        "plt.title('Cross Entropy Loss')\n",
        "plt.xlabel('epoch')\n",
        "plt.ylabel('loss')\n",
        "plt.show()"
      ],
      "execution_count": 24,
      "outputs": [
        {
          "output_type": "display_data",
          "data": {
            "image/png": "[encoded data removed]",
            "text/plain": [
              "<Figure size 432x288 with 1 Axes>"
            ]
          },
          "metadata": {
            "tags": [],
            "needs_background": "light"
          }
        }
      ]
    },
    {
      "cell_type": "code",
      "metadata": {
        "id": "I1WBIMsGSHfz",
        "colab_type": "code",
        "outputId": "ee88738d-2b57-468c-f9a5-489d3f5c453b",
        "colab": {
          "base_uri": "https://localhost:8080/",
          "height": 295
        }
      },
      "source": [
        "plt.plot(train_acc, 'b-', label='train accuracy')\n",
        "plt.plot(test_acc, 'k-', label='test accuracy')\n",
        "plt.xlabel('epoch')\n",
        "plt.ylabel('accuracy')\n",
        "plt.title('Train and Test Accuracy')\n",
        "plt.legend(loc='best')\n",
        "plt.show()"
      ],
      "execution_count": 25,
      "outputs": [
        {
          "output_type": "display_data",
          "data": {
            "image/png": "[encoded data removed]",
            "text/plain": [
              "<Figure size 432x288 with 1 Axes>"
            ]
          },
          "metadata": {
            "tags": [],
            "needs_background": "light"
          }
        }
      ]
    },
    {
      "cell_type": "code",
      "metadata": {
        "id": "MG0djsTYSMsk",
        "colab_type": "code",
        "outputId": "19ef5538-cb5d-40c6-e289-4d8d86b1f904",
        "colab": {
          "base_uri": "https://localhost:8080/",
          "height": 85
        }
      },
      "source": [
        "# updated value of weights\n",
        "sess.run(A)"
      ],
      "execution_count": 26,
      "outputs": [
        {
          "output_type": "execute_result",
          "data": {
            "text/plain": [
              "array([[-0.5203105,  0.4673369,  1.7873098],\n",
              "       [ 2.456855 , -1.6403936, -0.6846245],\n",
              "       [-2.5969236,  1.9394777,  1.2852895],\n",
              "       [-3.4270422, -1.8786825,  2.2430692]], dtype=float32)"
            ]
          },
          "metadata": {
            "tags": []
          },
          "execution_count": 26
        }
      ]
    },
    {
      "cell_type": "code",
      "metadata": {
        "id": "zP_t7q1GreZz",
        "colab_type": "code",
        "colab": {}
      },
      "source": [
        "mod = tf.matmul(data, A) + b\n",
        "x=sess.run(mod,feed_dict={data:X_test})\n",
        "predic=tf.nn.softmax(x)"
      ],
      "execution_count": 0,
      "outputs": []
    },
    {
      "cell_type": "code",
      "metadata": {
        "id": "i_xYNiMmuB8n",
        "colab_type": "code",
        "colab": {}
      },
      "source": [
        "predictions=sess.run(tf.arg_max(predic,1))"
      ],
      "execution_count": 0,
      "outputs": []
    },
    {
      "cell_type": "code",
      "metadata": {
        "id": "aUR3-UmeHxI4",
        "colab_type": "code",
        "colab": {}
      },
      "source": [
        "y_true=sess.run(tf.arg_max(y_test,1))"
      ],
      "execution_count": 0,
      "outputs": []
    },
    {
      "cell_type": "code",
      "metadata": {
        "id": "mczFwbzuHzEr",
        "colab_type": "code",
        "colab": {}
      },
      "source": [
        "from sklearn.metrics import confusion_matrix,classification_report"
      ],
      "execution_count": 0,
      "outputs": []
    },
    {
      "cell_type": "code",
      "metadata": {
        "id": "TStJ6dJJIG6U",
        "colab_type": "code",
        "outputId": "0550475f-43b5-4f5a-9001-9f9ee02e1a61",
        "colab": {
          "base_uri": "https://localhost:8080/",
          "height": 68
        }
      },
      "source": [
        "confusion_matrix(y_true,predictions)"
      ],
      "execution_count": 31,
      "outputs": [
        {
          "output_type": "execute_result",
          "data": {
            "text/plain": [
              "array([[16,  0,  0],\n",
              "       [ 0, 17,  1],\n",
              "       [ 0,  3, 13]])"
            ]
          },
          "metadata": {
            "tags": []
          },
          "execution_count": 31
        }
      ]
    },
    {
      "cell_type": "code",
      "metadata": {
        "id": "dn1-u7FQIUBl",
        "colab_type": "code",
        "colab": {
          "base_uri": "https://localhost:8080/",
          "height": 187
        },
        "outputId": "7d4f67cc-b730-4138-d246-ccc816b40482"
      },
      "source": [
        "print(classification_report(y_true,predictions))"
      ],
      "execution_count": 33,
      "outputs": [
        {
          "output_type": "stream",
          "text": [
            "              precision    recall  f1-score   support\n",
            "\n",
            "           0       1.00      1.00      1.00        16\n",
            "           1       0.85      0.94      0.89        18\n",
            "           2       0.93      0.81      0.87        16\n",
            "\n",
            "    accuracy                           0.92        50\n",
            "   macro avg       0.93      0.92      0.92        50\n",
            "weighted avg       0.92      0.92      0.92        50\n",
            "\n"
          ],
          "name": "stdout"
        }
      ]
    },
    {
      "cell_type": "code",
      "metadata": {
        "id": "tA15IRc41doD",
        "colab_type": "code",
        "colab": {}
      },
      "source": [
        ""
      ],
      "execution_count": 0,
      "outputs": []
    }
  ]
}